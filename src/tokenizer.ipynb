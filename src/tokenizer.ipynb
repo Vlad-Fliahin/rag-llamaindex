{
 "cells": [
  {
   "cell_type": "code",
   "execution_count": 7,
   "id": "cbd768e5-594c-4656-992b-43f496e3f285",
   "metadata": {},
   "outputs": [],
   "source": [
    "import tiktoken\n",
    "from pathlib import Path"
   ]
  },
  {
   "cell_type": "code",
   "execution_count": 2,
   "id": "1eb70113-f4bb-42fa-9213-7b4ac98bd972",
   "metadata": {},
   "outputs": [
    {
     "data": {
      "text/plain": [
       "['gpt2', 'r50k_base', 'p50k_base', 'p50k_edit', 'cl100k_base', 'o200k_base']"
      ]
     },
     "execution_count": 2,
     "metadata": {},
     "output_type": "execute_result"
    }
   ],
   "source": [
    "tiktoken.list_encoding_names()"
   ]
  },
  {
   "cell_type": "code",
   "execution_count": 3,
   "id": "f40a9f21-c0a2-4c06-85d3-f21e2c7b6880",
   "metadata": {},
   "outputs": [],
   "source": [
    "def num_tokens_from_string(string: str, encoding_name: str) -> int:\n",
    "    \"\"\"Returns the number of tokens in a text string.\"\"\"\n",
    "    encoding = tiktoken.get_encoding(encoding_name)\n",
    "    num_tokens = len(encoding.encode(string))\n",
    "    return num_tokens"
   ]
  },
  {
   "cell_type": "code",
   "execution_count": 11,
   "id": "ed260500-e843-49ed-8c0a-80413441df8e",
   "metadata": {},
   "outputs": [
    {
     "name": "stdout",
     "output_type": "stream",
     "text": [
      "nova-drive-motors.txt: 2757\n",
      "aero-vance-aviation.txt: 1860\n",
      "ukraine-boats.txt: 3793\n",
      "city-solve.txt: 3826\n",
      "total_tokens=12236\n"
     ]
    }
   ],
   "source": [
    "total_tokens = 0\n",
    "for path in Path('/data/vladf/rag-llamaindex/data/Ukraine Boats Inc').iterdir():\n",
    "    if path.suffix == \".txt\":\n",
    "        with open(path) as file:\n",
    "            tokens = num_tokens_from_string(file.read(), \"o200k_base\")\n",
    "            total_tokens += tokens\n",
    "            print(f'{path.name}: {tokens}')\n",
    "print(f'{total_tokens=}')"
   ]
  },
  {
   "cell_type": "code",
   "execution_count": null,
   "id": "8e62f628-0c82-46c7-af9d-57c2c43b5003",
   "metadata": {},
   "outputs": [],
   "source": []
  }
 ],
 "metadata": {
  "kernelspec": {
   "display_name": "rag-llamaindex-F9o6lAMf-py3.11",
   "language": "python",
   "name": "rag-llamaindex-f9o6lamf-py3.11"
  },
  "language_info": {
   "codemirror_mode": {
    "name": "ipython",
    "version": 3
   },
   "file_extension": ".py",
   "mimetype": "text/x-python",
   "name": "python",
   "nbconvert_exporter": "python",
   "pygments_lexer": "ipython3",
   "version": "3.11.6"
  }
 },
 "nbformat": 4,
 "nbformat_minor": 5
}
